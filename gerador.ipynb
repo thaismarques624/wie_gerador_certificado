{
  "nbformat": 4,
  "nbformat_minor": 0,
  "metadata": {
    "colab": {
      "provenance": [],
      "include_colab_link": true
    },
    "kernelspec": {
      "name": "python3",
      "display_name": "Python 3"
    },
    "language_info": {
      "name": "python"
    }
  },
  "cells": [
    {
      "cell_type": "markdown",
      "metadata": {
        "id": "view-in-github",
        "colab_type": "text"
      },
      "source": [
        "<a href=\"https://colab.research.google.com/github/thaismarques624/wie_gerador_certificado/blob/main/gerador.ipynb\" target=\"_parent\"><img src=\"https://colab.research.google.com/assets/colab-badge.svg\" alt=\"Open In Colab\"/></a>"
      ]
    },
    {
      "cell_type": "markdown",
      "source": [
        "\n",
        "#GERADOR DE CERTIFICADOS\n"
      ],
      "metadata": {
        "id": "lcBJ2hESOM5e"
      }
    },
    {
      "cell_type": "markdown",
      "source": [
        "##Bibliotecas importantes"
      ],
      "metadata": {
        "id": "1nuDE1-4LNiG"
      }
    },
    {
      "cell_type": "code",
      "execution_count": null,
      "metadata": {
        "id": "HcWkl2gHKv2F",
        "colab": {
          "base_uri": "https://localhost:8080/"
        },
        "outputId": "4404b734-341b-4604-f849-057f29529811"
      },
      "outputs": [
        {
          "output_type": "stream",
          "name": "stdout",
          "text": [
            "Requirement already satisfied: PyPDF2 in /usr/local/lib/python3.10/dist-packages (3.0.1)\n",
            "Requirement already satisfied: reportlab in /usr/local/lib/python3.10/dist-packages (4.2.2)\n",
            "Requirement already satisfied: pillow>=9.0.0 in /usr/local/lib/python3.10/dist-packages (from reportlab) (9.4.0)\n",
            "Requirement already satisfied: chardet in /usr/local/lib/python3.10/dist-packages (from reportlab) (5.2.0)\n"
          ]
        }
      ],
      "source": [
        "!pip install PyPDF2\n",
        "!pip install reportlab\n",
        "from PyPDF2 import PdfReader, PdfWriter\n",
        "from decimal import Decimal\n",
        "from reportlab.pdfgen import canvas\n",
        "from reportlab.lib.pagesizes import letter, A4\n",
        "from reportlab.lib.units import inch\n",
        "from google.colab import drive\n",
        "import gspread\n",
        "from google.colab import auth\n",
        "from google.auth import default\n",
        "import os\n",
        "import io\n",
        "import datetime"
      ]
    },
    {
      "cell_type": "markdown",
      "source": [
        "##Gerador do arquivo"
      ],
      "metadata": {
        "id": "31SreWMaMCEz"
      }
    },
    {
      "cell_type": "code",
      "source": [
        "# Autenticar usando as credenciais padrão\n",
        "auth.authenticate_user()\n",
        "\n",
        "# Obter as credenciais\n",
        "credentials, _ = default()\n",
        "\n",
        "# Autorizar o acesso ao Google Sheets\n",
        "gc = gspread.authorize(credentials)\n",
        "\n",
        "def ler_informacoes_planilha(planilha_id, nome_aba):\n",
        "    planilha = gc.open_by_key(planilha_id)\n",
        "    aba = planilha.worksheet(nome_aba)\n",
        "    dados = aba.get_all_values()\n",
        "    return dados[0], dados[1:]\n",
        "\n",
        "def ler_modelo_certificado(caminho_modelo_certificado):\n",
        "    return PdfReader(caminho_modelo_certificado)\n",
        "\n",
        "# Montar o Google Drive\n",
        "drive.mount('/content/drive')\n",
        "\n",
        "\n",
        "# Função para gerar certificado e salvar no arquivo de saída\n",
        "def gerar_certificado(nome_aluno, tipo_evento, tipo_participante, local_evento, data_evento, duracao_evento, pdf_reader, caminho_arquivo_saida):\n",
        "    pdf_writer = PdfWriter()\n",
        "\n",
        "    for page_num in range(len(pdf_reader.pages)):\n",
        "        page = pdf_reader.pages[page_num]\n",
        "        packet = io.BytesIO()\n",
        "        pagesize_per = (29.7 * inch, 21 * inch)\n",
        "        c = canvas.Canvas(packet, pagesize = pagesize_per)\n",
        "        c.setFont(\"Helvetica\", 16)\n",
        "\n",
        "        # Adicionar as informações do aluno no certificado apenas na primeira página\n",
        "        if page_num == 0:\n",
        "            # Adicionar as informações do aluno no certificado\n",
        "            texto1 = f\"Certifico que {nome_aluno}, participou do evento {tipo_evento} como {tipo_participante}, realizado no {local_evento} no dia {data_evento} com a duração de {duracao_evento}.\\n\"\n",
        "\n",
        "            # Adicionar a data de impressão\n",
        "            data_emissao = datetime.datetime.now().strftime(\"%d/%m/%Y\")\n",
        "            texto2 = f\" Emitido em João Pessoa, {data_emissao}.\"\n",
        "\n",
        "            texto = texto1 + \"\\n\" + texto2\n",
        "           # Definir a fonte e tamanho desejados\n",
        "\n",
        "            font_size = 20.5\n",
        "\n",
        "            # Calcular o tamanho do texto para ajustar o posicionamento\n",
        "            texto_linhas = texto.split()\n",
        "            text_height = font_size * len(texto_linhas) * 6  # Considerar espaçamento entre linhas\n",
        "\n",
        "            # Definir a posição fixa logo abaixo do título\n",
        "            y_start = 400  # Ajustar este valor conforme necessário para subir mais o texto\n",
        "\n",
        "            # Calcular a largura máxima do texto para corresponder à largura disponível\n",
        "            frame_x = 30  # Margem esquerda\n",
        "            #frame_x_direita = 39  # Margem direita maior\n",
        "            max_width = float(page.mediabox[3]) - frame_x * 1  # Subtrair margens esquerda e direita\n",
        "\n",
        "            # Dividir o texto em linhas para caber na largura máxima\n",
        "            texto_linhas = []\n",
        "            linha_atual = ''\n",
        "            for palavra in texto.split():\n",
        "                if c.stringWidth(linha_atual + ' ' + palavra, \"Helvetica\", font_size) < max_width:\n",
        "                    linha_atual += ' ' + palavra if linha_atual else palavra\n",
        "                else:\n",
        "                    texto_linhas.append(linha_atual)\n",
        "                    linha_atual = palavra\n",
        "            if linha_atual:\n",
        "                texto_linhas.append(linha_atual)\n",
        "\n",
        "            # Desenhar cada linha individualmente no canvas\n",
        "            c.setFont(\"Helvetica\", font_size)\n",
        "            y = y_start\n",
        "            for linha in texto_linhas:\n",
        "                # Calcular a posição x para centralizar o texto horizontalmente\n",
        "                line_width = c.stringWidth(linha, \"Helvetica\", font_size)\n",
        "                x = (float(page.mediabox[2]) - line_width) / 2  # Centralizar horizontalmente\n",
        "                c.drawString(x, y, linha)\n",
        "                y -= font_size * 1.2  # Espaçamento entre linhas\n",
        "\n",
        "\n",
        "\n",
        "        # Salvar o conteúdo do canvas\n",
        "        c.save()\n",
        "\n",
        "        # Adicionar a página ao escritor de PDF\n",
        "        packet.seek(0)\n",
        "        new_pdf = PdfReader(packet)\n",
        "        page.merge_page(new_pdf.pages[0])\n",
        "        pdf_writer.add_page(page)\n",
        "\n",
        "        # Limpar o buffer\n",
        "        packet.truncate(0)\n",
        "\n",
        "    # Salvar o certificado no arquivo de saída\n",
        "    with open(caminho_arquivo_saida, 'wb') as arquivo_saida:\n",
        "        pdf_writer.write(arquivo_saida)\n",
        "\n",
        "    return caminho_arquivo_saida\n",
        "\n",
        "# ID da planilha do Google Sheets e nome da aba\n",
        "planilha_id = 'https://docs.google.com/spreadsheets/d/coloque o id daqui/edit?gid=1697908971#gid=1697908971'\n",
        "nome_aba = 'Coloque o nome da aba'\n",
        "\n",
        "# Ler informações da planilha\n",
        "cabecalho, linhas_planilha = ler_informacoes_planilha(planilha_id, nome_aba)\n",
        "# Caminho para o modelo de certificado\n",
        "caminho_modelo_certificado = 'copie o caminho do arquivo do seu drive'\n",
        "\n",
        "# Ler o modelo de certificado\n",
        "pdf_reader = ler_modelo_certificado(caminho_modelo_certificado)\n",
        "\n",
        "# Função para salvar o arquivo no Google Drive\n",
        "def salvar_no_drive(caminho_arquivo_saida, nome_arquivo_saida):\n",
        "    caminho_completo = f'/copie o campinho de onde vai ficar salvo o arquivo/{nome_arquivo_saida}'\n",
        "\n",
        "    # Verificar se o diretório de destino existe, se não, criar\n",
        "    caminho_pasta = os.path.dirname(caminho_completo)\n",
        "    if not os.path.exists(caminho_pasta):\n",
        "        os.makedirs(caminho_pasta)\n",
        "\n",
        "    with open(caminho_arquivo_saida, 'rb') as arquivo_entrada:\n",
        "        with open(caminho_completo, 'wb') as arquivo_saida:\n",
        "            arquivo_saida.write(arquivo_entrada.read())\n",
        "    print(f\"Certificado gerado e salvo em: {caminho_completo}\")\n",
        "\n",
        "# Iterar sobre cada linha da planilha\n",
        "for linha in linhas_planilha:\n",
        "    nome_aluno, tipo_evento, tipo_participante, local_evento, data_evento, duracao_evento = linha\n",
        "\n",
        "    # Ler o modelo de certificado para cada linha\n",
        "    pdf_reader = ler_modelo_certificado(caminho_modelo_certificado)\n",
        "\n",
        "    # Gerar caminho único para o arquivo de certificado\n",
        "    nome_arquivo_saida = f\"certificado_{nome_aluno}.pdf\"\n",
        "    caminho_arquivo_saida = f'/content/{nome_arquivo_saida}'\n",
        "\n",
        "    # Gerar e salvar o certificado para a linha atual\n",
        "    caminho_certificado = gerar_certificado(nome_aluno, tipo_evento, tipo_participante, local_evento, data_evento, duracao_evento, pdf_reader, caminho_arquivo_saida)\n",
        "    salvar_no_drive(caminho_certificado, nome_arquivo_saida)\n",
        "\n",
        "# Finalizado\n",
        "print(\"Processo de geração de certificados concluído.\")\n"
      ],
      "metadata": {
        "id": "yfxPtcCPMOg1",
        "colab": {
          "base_uri": "https://localhost:8080/"
        },
        "outputId": "e03dab45-7158-4c0d-ba06-c4cc2bd94744"
      },
      "execution_count": null,
      "outputs": [
        {
          "output_type": "stream",
          "name": "stdout",
          "text": [
            "Drive already mounted at /content/drive; to attempt to forcibly remount, call drive.mount(\"/content/drive\", force_remount=True).\n",
            "Certificado gerado e salvo em: /content/drive/My Drive/certificados_wie/Certificados gerados/certificado_Thais Gabrielly Marques de Andrade.pdf\n",
            "Processo de geração de certificados concluído.\n"
          ]
        }
      ]
    },
    {
      "cell_type": "markdown",
      "source": [
        "Referências:"
      ],
      "metadata": {
        "id": "I4OjIjwozaBP"
      }
    },
    {
      "cell_type": "code",
      "source": [
        "#https://www.reportlab.com/docs/reportlab-userguide.pdf\n",
        "#https://stackoverflow.com/questions/5882636/how-to-create-a-pdf-document-with-differing-page-sizes-in-reportlab-python\n"
      ],
      "metadata": {
        "id": "y6kYyhsVzeEy"
      },
      "execution_count": null,
      "outputs": []
    }
  ]
}